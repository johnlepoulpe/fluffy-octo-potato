{
 "cells": [
  {
   "cell_type": "markdown",
   "metadata": {},
   "source": [
    "## Dépendance logicielle"
   ]
  },
  {
   "cell_type": "markdown",
   "metadata": {},
   "source": [
    "Ce notebook dépend des bibliothèques suivantes :\n",
    "- Python3: pandas, numpy, scipy, matplotlib, time"
   ]
  },
  {
   "cell_type": "code",
   "execution_count": 60,
   "metadata": {},
   "outputs": [],
   "source": [
    "import numpy as np\n",
    "import scipy.spatial.distance as dist\n",
    "import matplotlib.pyplot as plt\n",
    "import time\n",
    "import pandas as pd"
   ]
  },
  {
   "cell_type": "code",
   "execution_count": 61,
   "metadata": {},
   "outputs": [
    {
     "name": "stdout",
     "output_type": "stream",
     "text": [
      "{'commit_hash': 'b467d487e',\n",
      " 'commit_source': 'installation',\n",
      " 'default_encoding': 'UTF-8',\n",
      " 'ipython_path': '/usr/lib/python3/dist-packages/IPython',\n",
      " 'ipython_version': '5.5.0',\n",
      " 'os_name': 'posix',\n",
      " 'platform': 'Linux-4.2.0-1-amd64-x86_64-with-debian-stretch-sid',\n",
      " 'sys_executable': '/usr/bin/python3',\n",
      " 'sys_platform': 'linux',\n",
      " 'sys_version': '3.6.3 (default, Oct  3 2017, 21:16:13) \\n[GCC 7.2.0]'}\n"
     ]
    },
    {
     "data": {
      "text/plain": [
       "'1.13.1'"
      ]
     },
     "execution_count": 61,
     "metadata": {},
     "output_type": "execute_result"
    }
   ],
   "source": [
    "import IPython\n",
    "print(IPython.sys_info())\n",
    "np.__version__"
   ]
  },
  {
   "cell_type": "markdown",
   "metadata": {},
   "source": [
    "# Partie A: Données synthétiques"
   ]
  },
  {
   "cell_type": "markdown",
   "metadata": {},
   "source": [
    "## Question 1"
   ]
  },
  {
   "cell_type": "code",
   "execution_count": 100,
   "metadata": {},
   "outputs": [],
   "source": [
    "N=1000\n",
    "M=100\n",
    "\n",
    "def ratios(D):\n",
    "    t0 = time.clock() # process time is different then wall time\n",
    "    x = np.random.randn(N,D) # data\n",
    "    y = np.random.randn(M,D) # requests\n",
    "    z = dist.cdist(y,x,'euclidean') # euclidean distance \n",
    "    minimums=z.min(1)\n",
    "    maximums=z.max(1)\n",
    "    time_taken = time.clock() - t0\n",
    "    return pd.DataFrame({'Ratios' : (minimums/maximums).tolist(), 'Elapsed' : time_taken, 'N' : N, 'D' : D})\n"
   ]
  },
  {
   "cell_type": "code",
   "execution_count": 146,
   "metadata": {},
   "outputs": [
    {
     "data": {
      "image/png": "[encoded data removed]",
      "text/plain": [
       "<matplotlib.figure.Figure at 0x7fdfec15c780>"
      ]
     },
     "metadata": {},
     "output_type": "display_data"
    }
   ],
   "source": [
    "exp_end = 15\n",
    "results = []\n",
    "means = []\n",
    "times = []\n",
    "for i in range(4, exp_end+1):\n",
    "    D = 2 ** i\n",
    "    x = (np.random.rand(M) - 0.5) * .5 + i \n",
    "    sample = ratios(D)\n",
    "    y = (sample['Ratios'].values)\n",
    "    plt.plot(x, y, 'b.', markersize = .3)\n",
    "    means.append(np.mean(y))\n",
    "    times.append(sample['Elapsed'][0])\n",
    "\n",
    "avg, = plt.plot(np.arange(4, exp_end+1), means, linewidth= 1, color = 'red')\n",
    "plt.axhline(y=1, color='black', linestyle='-', linewidth = 1)\n",
    "\n",
    "plt.title(\"Ratios as a function of the dimension \\n (\" + str(M) + \" requests for \" + str(N) + \" points)\")\n",
    "plt.xlabel(\"Logarithm of the dimension\")\n",
    "plt.ylabel(\"Ratios\")\n",
    "plt.legend([avg], [\"Average\"])\n",
    "plt.show()"
   ]
  }
 ],
 "metadata": {
  "kernelspec": {
   "display_name": "Python 3",
   "language": "python",
   "name": "python3"
  },
  "language_info": {
   "codemirror_mode": {
    "name": "ipython",
    "version": 3
   },
   "file_extension": ".py",
   "mimetype": "text/x-python",
   "name": "python",
   "nbconvert_exporter": "python",
   "pygments_lexer": "ipython3",
   "version": "3.6.3"
  }
 },
 "nbformat": 4,
 "nbformat_minor": 2
}
